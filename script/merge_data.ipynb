{
 "cells": [
  {
   "cell_type": "code",
   "execution_count": 25,
   "id": "241b3c60-506a-45c9-ba2b-886ac627a78a",
   "metadata": {
    "collapsed": true,
    "jupyter": {
     "outputs_hidden": true
    }
   },
   "outputs": [
    {
     "name": "stdout",
     "output_type": "stream",
     "text": [
      "✅ Merged file saved to: C:/Users/User/Desktop/education and life/TMP/Project 1- Transborder frieght data analysis/data1/dot1\\dot1_ytd_2023.csv\n"
     ]
    }
   ],
   "source": [
    "import os\n",
    "import pandas as pd\n",
    "\n",
    "# Step 1: Set the path to the folder with the CSV files\n",
    "csv_folder = \"C:/Users/User/Desktop/education and life/TMP/Project 1- Transborder frieght data analysis/data1/dot1/2023\"  \n",
    "\n",
    "# Step 2: Get the list of CSV files\n",
    "csv_files = [file for file in os.listdir(csv_folder) if file.endswith('.csv')]\n",
    "\n",
    "# Step 3: Read and merge all CSVs\n",
    "all_data = pd.concat(\n",
    "    [pd.read_csv(os.path.join(csv_folder, file)) for file in csv_files],\n",
    "    ignore_index=True\n",
    ")\n",
    "\n",
    "# Step 4: Create output path — one directory above `csv_folder`\n",
    "parent_folder = os.path.dirname(csv_folder)\n",
    "output_file = os.path.join(parent_folder, \"dot1_ytd_2023.csv\")\n",
    "\n",
    "# Step 5: Save the merged DataFrame\n",
    "all_data.to_csv(output_file, index=False)\n",
    "\n",
    "print(f\"✅ Merged file saved to: {output_file}\")\n"
   ]
  },
  {
   "cell_type": "code",
   "execution_count": 26,
   "id": "5bbb31cb-d276-40d2-953f-844b2280f5d8",
   "metadata": {
    "collapsed": true,
    "jupyter": {
     "outputs_hidden": true
    }
   },
   "outputs": [
    {
     "name": "stdout",
     "output_type": "stream",
     "text": [
      "✅ Merged file saved to: C:/Users/User/Desktop/education and life/TMP/Project 1- Transborder frieght data analysis/data1/dot1\\dot1_ytd_2024.csv\n"
     ]
    }
   ],
   "source": [
    "import os\n",
    "import pandas as pd\n",
    "\n",
    "# Step 1: Set the path to the folder with the CSV files\n",
    "csv_folder = \"C:/Users/User/Desktop/education and life/TMP/Project 1- Transborder frieght data analysis/data1/dot1/2024\"  # Example: \"data/monthly_files\"\n",
    "\n",
    "# Step 2: Get the list of CSV files\n",
    "csv_files = [file for file in os.listdir(csv_folder) if file.endswith('.csv')]\n",
    "\n",
    "# Step 3: Read and merge all CSVs\n",
    "all_data = pd.concat(\n",
    "    [pd.read_csv(os.path.join(csv_folder, file)) for file in csv_files],\n",
    "    ignore_index=True\n",
    ")\n",
    "\n",
    "# Step 4: Create output path — one directory above `csv_folder`\n",
    "parent_folder = os.path.dirname(csv_folder)\n",
    "output_file = os.path.join(parent_folder, \"dot1_ytd_2024.csv\")\n",
    "\n",
    "# Step 5: Save the merged DataFrame\n",
    "all_data.to_csv(output_file, index=False)\n",
    "\n",
    "print(f\"✅ Merged file saved to: {output_file}\")\n"
   ]
  },
  {
   "cell_type": "code",
   "execution_count": 27,
   "id": "331a01d6-1628-448c-ace5-4c77f099c213",
   "metadata": {
    "collapsed": true,
    "jupyter": {
     "outputs_hidden": true
    }
   },
   "outputs": [
    {
     "name": "stderr",
     "output_type": "stream",
     "text": [
      "C:\\Users\\User\\AppData\\Local\\Temp\\ipykernel_30072\\2958190675.py:12: DtypeWarning: Columns (4,11) have mixed types. Specify dtype option on import or set low_memory=False.\n",
      "  [pd.read_csv(os.path.join(csv_folder, file)) for file in csv_files],\n",
      "C:\\Users\\User\\AppData\\Local\\Temp\\ipykernel_30072\\2958190675.py:12: DtypeWarning: Columns (4,11) have mixed types. Specify dtype option on import or set low_memory=False.\n",
      "  [pd.read_csv(os.path.join(csv_folder, file)) for file in csv_files],\n",
      "C:\\Users\\User\\AppData\\Local\\Temp\\ipykernel_30072\\2958190675.py:12: DtypeWarning: Columns (4,11) have mixed types. Specify dtype option on import or set low_memory=False.\n",
      "  [pd.read_csv(os.path.join(csv_folder, file)) for file in csv_files],\n",
      "C:\\Users\\User\\AppData\\Local\\Temp\\ipykernel_30072\\2958190675.py:12: DtypeWarning: Columns (4,11) have mixed types. Specify dtype option on import or set low_memory=False.\n",
      "  [pd.read_csv(os.path.join(csv_folder, file)) for file in csv_files],\n"
     ]
    },
    {
     "name": "stdout",
     "output_type": "stream",
     "text": [
      "✅ Merged file saved to: C:/Users/User/Desktop/education and life/TMP/Project 1- Transborder frieght data analysis/data1/dot2\\dot2_ytd_2023.csv\n"
     ]
    }
   ],
   "source": [
    "import os\n",
    "import pandas as pd\n",
    "\n",
    "# Step 1: Set the path to the folder with the CSV files\n",
    "csv_folder = \"C:/Users/User/Desktop/education and life/TMP/Project 1- Transborder frieght data analysis/data1/dot2/2023\"  # Example: \"data/monthly_files\"\n",
    "\n",
    "# Step 2: Get the list of CSV files\n",
    "csv_files = [file for file in os.listdir(csv_folder) if file.endswith('.csv')]\n",
    "\n",
    "# Step 3: Read and merge all CSVs\n",
    "all_data = pd.concat(\n",
    "    [pd.read_csv(os.path.join(csv_folder, file)) for file in csv_files],\n",
    "    ignore_index=True\n",
    ")\n",
    "\n",
    "# Step 4: Create output path — one directory above `csv_folder`\n",
    "parent_folder = os.path.dirname(csv_folder)\n",
    "output_file = os.path.join(parent_folder, \"dot2_ytd_2023.csv\")\n",
    "\n",
    "# Step 5: Save the merged DataFrame\n",
    "all_data.to_csv(output_file, index=False)\n",
    "\n",
    "print(f\"✅ Merged file saved to: {output_file}\")\n"
   ]
  },
  {
   "cell_type": "code",
   "execution_count": 28,
   "id": "f962f87c-f404-4bd4-9e50-6a6ddf6a00ea",
   "metadata": {
    "collapsed": true,
    "jupyter": {
     "outputs_hidden": true
    }
   },
   "outputs": [
    {
     "name": "stderr",
     "output_type": "stream",
     "text": [
      "C:\\Users\\User\\AppData\\Local\\Temp\\ipykernel_30072\\1895184501.py:12: DtypeWarning: Columns (4,11) have mixed types. Specify dtype option on import or set low_memory=False.\n",
      "  [pd.read_csv(os.path.join(csv_folder, file)) for file in csv_files],\n",
      "C:\\Users\\User\\AppData\\Local\\Temp\\ipykernel_30072\\1895184501.py:12: DtypeWarning: Columns (4,11) have mixed types. Specify dtype option on import or set low_memory=False.\n",
      "  [pd.read_csv(os.path.join(csv_folder, file)) for file in csv_files],\n",
      "C:\\Users\\User\\AppData\\Local\\Temp\\ipykernel_30072\\1895184501.py:12: DtypeWarning: Columns (4,11) have mixed types. Specify dtype option on import or set low_memory=False.\n",
      "  [pd.read_csv(os.path.join(csv_folder, file)) for file in csv_files],\n",
      "C:\\Users\\User\\AppData\\Local\\Temp\\ipykernel_30072\\1895184501.py:12: DtypeWarning: Columns (4,11) have mixed types. Specify dtype option on import or set low_memory=False.\n",
      "  [pd.read_csv(os.path.join(csv_folder, file)) for file in csv_files],\n",
      "C:\\Users\\User\\AppData\\Local\\Temp\\ipykernel_30072\\1895184501.py:12: DtypeWarning: Columns (4,11) have mixed types. Specify dtype option on import or set low_memory=False.\n",
      "  [pd.read_csv(os.path.join(csv_folder, file)) for file in csv_files],\n",
      "C:\\Users\\User\\AppData\\Local\\Temp\\ipykernel_30072\\1895184501.py:12: DtypeWarning: Columns (4,11) have mixed types. Specify dtype option on import or set low_memory=False.\n",
      "  [pd.read_csv(os.path.join(csv_folder, file)) for file in csv_files],\n",
      "C:\\Users\\User\\AppData\\Local\\Temp\\ipykernel_30072\\1895184501.py:12: DtypeWarning: Columns (4,11) have mixed types. Specify dtype option on import or set low_memory=False.\n",
      "  [pd.read_csv(os.path.join(csv_folder, file)) for file in csv_files],\n",
      "C:\\Users\\User\\AppData\\Local\\Temp\\ipykernel_30072\\1895184501.py:12: DtypeWarning: Columns (4,11) have mixed types. Specify dtype option on import or set low_memory=False.\n",
      "  [pd.read_csv(os.path.join(csv_folder, file)) for file in csv_files],\n",
      "C:\\Users\\User\\AppData\\Local\\Temp\\ipykernel_30072\\1895184501.py:12: DtypeWarning: Columns (4,11) have mixed types. Specify dtype option on import or set low_memory=False.\n",
      "  [pd.read_csv(os.path.join(csv_folder, file)) for file in csv_files],\n"
     ]
    },
    {
     "name": "stdout",
     "output_type": "stream",
     "text": [
      "✅ Merged file saved to: C:/Users/User/Desktop/education and life/TMP/Project 1- Transborder frieght data analysis/data1/dot2\\dot2_ytd_2024.csv\n"
     ]
    }
   ],
   "source": [
    "import os\n",
    "import pandas as pd\n",
    "\n",
    "# Step 1: Set the path to the folder with the CSV files\n",
    "csv_folder = \"C:/Users/User/Desktop/education and life/TMP/Project 1- Transborder frieght data analysis/data1/dot2/2024\"  # Example: \"data/monthly_files\"\n",
    "\n",
    "# Step 2: Get the list of CSV files\n",
    "csv_files = [file for file in os.listdir(csv_folder) if file.endswith('.csv')]\n",
    "\n",
    "# Step 3: Read and merge all CSVs\n",
    "all_data = pd.concat(\n",
    "    [pd.read_csv(os.path.join(csv_folder, file)) for file in csv_files],\n",
    "    ignore_index=True\n",
    ")\n",
    "\n",
    "# Step 4: Create output path — one directory above `csv_folder`\n",
    "parent_folder = os.path.dirname(csv_folder)\n",
    "output_file = os.path.join(parent_folder, \"dot2_ytd_2024.csv\")\n",
    "\n",
    "# Step 5: Save the merged DataFrame\n",
    "all_data.to_csv(output_file, index=False)\n",
    "\n",
    "\n",
    "print(f\"✅ Merged file saved to: {output_file}\")\n"
   ]
  },
  {
   "cell_type": "code",
   "execution_count": 29,
   "id": "25744926-eaae-4988-957a-b338b7f70fd5",
   "metadata": {
    "collapsed": true,
    "jupyter": {
     "outputs_hidden": true
    }
   },
   "outputs": [
    {
     "name": "stdout",
     "output_type": "stream",
     "text": [
      "✅ Merged file saved to: C:/Users/User/Desktop/education and life/TMP/Project 1- Transborder frieght data analysis/data1/dot3\\dot3_ytd_2023.csv\n"
     ]
    }
   ],
   "source": [
    "import os\n",
    "import pandas as pd\n",
    "\n",
    "# Step 1: Set the path to the folder with the CSV files\n",
    "csv_folder = \"C:/Users/User/Desktop/education and life/TMP/Project 1- Transborder frieght data analysis/data1/dot3/2023\"  # Example: \"data/monthly_files\"\n",
    "\n",
    "# Step 2: Get the list of CSV files\n",
    "csv_files = [file for file in os.listdir(csv_folder) if file.endswith('.csv')]\n",
    "\n",
    "# Step 3: Read and merge all CSVs\n",
    "all_data = pd.concat(\n",
    "    [pd.read_csv(os.path.join(csv_folder, file)) for file in csv_files],\n",
    "    ignore_index=True\n",
    ")\n",
    "\n",
    "# Step 4: Create output path — one directory above `csv_folder`\n",
    "parent_folder = os.path.dirname(csv_folder)\n",
    "output_file = os.path.join(parent_folder, \"dot3_ytd_2023.csv\")\n",
    "\n",
    "# Step 5: Save the merged DataFrame\n",
    "all_data.to_csv(output_file, index=False)\n",
    "\n",
    "print(f\"✅ Merged file saved to: {output_file}\")\n"
   ]
  },
  {
   "cell_type": "code",
   "execution_count": 30,
   "id": "a7730206-bc48-4859-bd21-5a7e0d44e08e",
   "metadata": {
    "collapsed": true,
    "jupyter": {
     "outputs_hidden": true
    }
   },
   "outputs": [
    {
     "name": "stderr",
     "output_type": "stream",
     "text": [
      "C:\\Users\\User\\AppData\\Local\\Temp\\ipykernel_30072\\1068746735.py:12: DtypeWarning: Columns (4,11) have mixed types. Specify dtype option on import or set low_memory=False.\n",
      "  [pd.read_csv(os.path.join(csv_folder, file)) for file in csv_files],\n"
     ]
    },
    {
     "name": "stdout",
     "output_type": "stream",
     "text": [
      "✅ Merged file saved to: C:/Users/User/Desktop/education and life/TMP/Project 1- Transborder frieght data analysis/data1/dot3\\dot3_ytd_2024.csv\n"
     ]
    }
   ],
   "source": [
    "import os\n",
    "import pandas as pd\n",
    "\n",
    "# Step 1: Set the path to the folder with the CSV files\n",
    "csv_folder = \"C:/Users/User/Desktop/education and life/TMP/Project 1- Transborder frieght data analysis/data1/dot3/2024\"  # Example: \"data/monthly_files\"\n",
    "\n",
    "# Step 2: Get the list of CSV files\n",
    "csv_files = [file for file in os.listdir(csv_folder) if file.endswith('.csv')]\n",
    "\n",
    "# Step 3: Read and merge all CSVs\n",
    "all_data = pd.concat(\n",
    "    [pd.read_csv(os.path.join(csv_folder, file)) for file in csv_files],\n",
    "    ignore_index=True\n",
    ")\n",
    "\n",
    "# Step 4: Create output path — one directory above `csv_folder`\n",
    "parent_folder = os.path.dirname(csv_folder)\n",
    "output_file = os.path.join(parent_folder, \"dot3_ytd_2024.csv\")\n",
    "\n",
    "# Step 5: Save the merged DataFrame\n",
    "all_data.to_csv(output_file, index=False)\n",
    "\n",
    "print(f\"✅ Merged file saved to: {output_file}\")\n"
   ]
  },
  {
   "cell_type": "code",
   "execution_count": 31,
   "id": "20d4492d-8ae1-423c-b932-3914a55a4e18",
   "metadata": {
    "collapsed": true,
    "jupyter": {
     "outputs_hidden": true
    }
   },
   "outputs": [
    {
     "name": "stdout",
     "output_type": "stream",
     "text": [
      "✅ Merged 5 files into one DataFrame with shape: (1500485, 14)\n",
      "   TRDTYPE USASTATE  DEPE  DISAGMOT MEXSTATE CANPROV  COUNTRY   VALUE  SHIPWT  \\\n",
      "0        1       AK  07XX         3      NaN      XA     1220    3302     378   \n",
      "1        1       AK  20XX         3      NaN      XA     1220  133362     137   \n",
      "2        1       AK  20XX         3      NaN      XA     1220   49960      66   \n",
      "3        1       AK  20XX         3      NaN      XC     1220   21184    3418   \n",
      "4        1       AK  20XX         3      NaN      XM     1220    4253       2   \n",
      "\n",
      "   FREIGHT_CHARGES   DF CONTCODE  MONTH  YEAR  \n",
      "0              125  1.0        X      1  2020  \n",
      "1             1563  1.0        X      1  2020  \n",
      "2             2631  2.0        X      1  2020  \n",
      "3              795  1.0        X      1  2020  \n",
      "4               75  1.0        X      1  2020  \n"
     ]
    }
   ],
   "source": [
    "# Step 1: Set path to the folder containing the CSV files\n",
    "csv_folder = \"C:/Users/User/Desktop/education and life/TMP/Project 1- Transborder frieght data analysis/data1/dot1\"  # Example: r\"C:\\Users\\User\\Documents\\transport_data\"\n",
    "\n",
    "# Step 2: Get all CSV files in the folder\n",
    "csv_files = [file for file in os.listdir(csv_folder) if file.endswith('.csv')]\n",
    "\n",
    "# Step 3: Read and merge all CSV files into one DataFrame\n",
    "df_dot1 = pd.concat(\n",
    "    [pd.read_csv(os.path.join(csv_folder, file), low_memory=False) for file in csv_files],\n",
    "    ignore_index=True\n",
    ")\n",
    "\n",
    "# Step 4: Preview the merged data\n",
    "print(f\"✅ Merged {len(csv_files)} files into one DataFrame with shape: {df_dot1.shape}\")\n",
    "print(df_dot1.head())\n"
   ]
  },
  {
   "cell_type": "code",
   "execution_count": 32,
   "id": "825b94c6-f1b8-4a7b-89d3-2eb16c1a7b4f",
   "metadata": {
    "collapsed": true,
    "jupyter": {
     "outputs_hidden": true
    }
   },
   "outputs": [
    {
     "name": "stdout",
     "output_type": "stream",
     "text": [
      "✅ Merged 5 files into one DataFrame with shape: (4101624, 14)\n",
      "   TRDTYPE USASTATE  COMMODITY2  DISAGMOT MEXSTATE CANPROV  COUNTRY   VALUE  \\\n",
      "0        1       AK           2         5       BC     NaN     2010   34800   \n",
      "1        1       AK           2         5       CM     NaN     2010   36055   \n",
      "2        1       AK           3         3      NaN      XQ     1220    2979   \n",
      "3        1       AK           3         5      NaN      XC     1220  678610   \n",
      "4        1       AK           3         5      NaN      XC     1220   53448   \n",
      "\n",
      "   SHIPWT  FREIGHT_CHARGES   DF CONTCODE  MONTH  YEAR  \n",
      "0       0                0  1.0        0      1  2020  \n",
      "1       0                0  1.0        0      1  2020  \n",
      "2     236               40  1.0        X      1  2020  \n",
      "3       0            13524  1.0        X      1  2020  \n",
      "4       0              732  2.0        X      1  2020  \n"
     ]
    }
   ],
   "source": [
    "# Step 1: Set path to the folder containing the CSV files\n",
    "csv_folder = \"C:/Users/User/Desktop/education and life/TMP/Project 1- Transborder frieght data analysis/data1/dot2\"  # Example: r\"C:\\Users\\User\\Documents\\transport_data\"\n",
    "\n",
    "# Step 2: Get all CSV files in the folder\n",
    "csv_files = [file for file in os.listdir(csv_folder) if file.endswith('.csv')]\n",
    "\n",
    "# Step 3: Read and merge all CSV files into one DataFrame\n",
    "df_dot2 = pd.concat(\n",
    "    [pd.read_csv(os.path.join(csv_folder, file), low_memory=False) for file in csv_files],\n",
    "    ignore_index=True\n",
    ")\n",
    "\n",
    "# Step 4: Preview the merged data\n",
    "print(f\"✅ Merged {len(csv_files)} files into one DataFrame with shape: {df_dot2.shape}\")\n",
    "print(df_dot2.head())\n"
   ]
  },
  {
   "cell_type": "code",
   "execution_count": 33,
   "id": "f8beea6a-a1a0-4ba6-abbe-ab5d6e1170be",
   "metadata": {
    "collapsed": true,
    "jupyter": {
     "outputs_hidden": true
    }
   },
   "outputs": [
    {
     "name": "stdout",
     "output_type": "stream",
     "text": [
      "✅ Merged 5 files into one DataFrame with shape: (994133, 15)\n",
      "   TRDTYPE  DEPE  COMMODITY2  DISAGMOT  COUNTRY  VALUE  SHIPWT  \\\n",
      "0        1  0101          27         5     1220   3978       0   \n",
      "1        1  0101          28         5     1220   3614       0   \n",
      "2        1  0101          29         5     1220  12436       0   \n",
      "3        1  0101          29         5     1220  24764       0   \n",
      "4        1  0101          34         5     1220  33250       0   \n",
      "\n",
      "   FREIGHT_CHARGES   DF CONTCODE  MONTH  YEAR USASTATE MEXSTATE CANPROV  \n",
      "0              116  1.0        X      1  2020      NaN      NaN     NaN  \n",
      "1               71  1.0        X      1  2020      NaN      NaN     NaN  \n",
      "2              243  1.0        X      1  2020      NaN      NaN     NaN  \n",
      "3              485  2.0        X      1  2020      NaN      NaN     NaN  \n",
      "4              615  1.0        X      1  2020      NaN      NaN     NaN  \n"
     ]
    }
   ],
   "source": [
    "# Step 1: Set path to the folder containing the CSV files\n",
    "csv_folder = \"C:/Users/User/Desktop/education and life/TMP/Project 1- Transborder frieght data analysis/data1/dot3\"  # Example: r\"C:\\Users\\User\\Documents\\transport_data\"\n",
    "\n",
    "# Step 2: Get all CSV files in the folder\n",
    "csv_files = [file for file in os.listdir(csv_folder) if file.endswith('.csv')]\n",
    "\n",
    "# Step 3: Read and merge all CSV files into one DataFrame\n",
    "df_dot3 = pd.concat(\n",
    "    [pd.read_csv(os.path.join(csv_folder, file), low_memory=False) for file in csv_files],\n",
    "    ignore_index=True\n",
    ")\n",
    "\n",
    "# Step 4: Preview the merged data\n",
    "print(f\"✅ Merged {len(csv_files)} files into one DataFrame with shape: {df_dot3.shape}\")\n",
    "print(df_dot3.head())\n"
   ]
  },
  {
   "cell_type": "code",
   "execution_count": 34,
   "id": "736044a6-1d8c-4ac0-ae02-2ceb26374841",
   "metadata": {
    "collapsed": true,
    "jupyter": {
     "outputs_hidden": true
    }
   },
   "outputs": [],
   "source": [
    "df_list = [df_dot1, df_dot2, df_dot3]"
   ]
  },
  {
   "cell_type": "code",
   "execution_count": 36,
   "id": "22d06c88-4c40-4c21-af49-01bb9e1a7cd9",
   "metadata": {
    "collapsed": true,
    "jupyter": {
     "outputs_hidden": true
    }
   },
   "outputs": [
    {
     "name": "stderr",
     "output_type": "stream",
     "text": [
      "C:\\Users\\User\\AppData\\Local\\Temp\\ipykernel_30072\\997527068.py:2: FutureWarning: Setting an item of incompatible dtype is deprecated and will raise an error in a future version of pandas. Value 'N/A' has dtype incompatible with float64, please explicitly cast to a compatible dtype first.\n",
      "  df.fillna(\"N/A\", inplace=True)\n"
     ]
    }
   ],
   "source": [
    "#Filling empty rows with N/A\n",
    "\n",
    "for df in df_list:\n",
    "    df.fillna(\"N/A\", inplace=True)"
   ]
  },
  {
   "cell_type": "code",
   "execution_count": 24,
   "id": "956d875a-261b-4a56-a546-b399be43e9ac",
   "metadata": {
    "collapsed": true,
    "jupyter": {
     "outputs_hidden": true
    }
   },
   "outputs": [],
   "source": [
    "output_folder = \"C:/Users/User/Desktop/education and life/TMP/Project 1- Transborder frieght data analysis/power BI data\"\n",
    "\n",
    "df_dot1.to_csv(os.path.join(output_folder, \"dot1_cleaned.csv\"), index=False)\n",
    "df_dot2.to_csv(os.path.join(output_folder, \"dot2_cleaned.csv\"), index=False)\n",
    "df_dot3.to_csv(os.path.join(output_folder, \"dot3_cleaned.csv\"), index=False)\n"
   ]
  }
 ],
 "metadata": {
  "kernelspec": {
   "display_name": "Python 3 (ipykernel)",
   "language": "python",
   "name": "python3"
  },
  "language_info": {
   "codemirror_mode": {
    "name": "ipython",
    "version": 3
   },
   "file_extension": ".py",
   "mimetype": "text/x-python",
   "name": "python",
   "nbconvert_exporter": "python",
   "pygments_lexer": "ipython3",
   "version": "3.11.7"
  }
 },
 "nbformat": 4,
 "nbformat_minor": 5
}
